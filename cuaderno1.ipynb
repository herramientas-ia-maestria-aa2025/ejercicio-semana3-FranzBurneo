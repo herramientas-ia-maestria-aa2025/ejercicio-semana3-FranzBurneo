{
 "cells": [
  {
   "cell_type": "code",
   "execution_count": 4,
   "id": "2fcc543e-4da8-4387-ac9c-daabadf10247",
   "metadata": {},
   "outputs": [
    {
     "name": "stdout",
     "output_type": "stream",
     "text": [
      "Collecting faker\n",
      "  Using cached faker-37.1.0-py3-none-any.whl.metadata (15 kB)\n",
      "Requirement already satisfied: tzdata in c:\\users\\raulc\\appdata\\local\\programs\\python\\python311\\lib\\site-packages (from faker) (2025.2)\n",
      "Using cached faker-37.1.0-py3-none-any.whl (1.9 MB)\n",
      "Installing collected packages: faker\n",
      "Successfully installed faker-37.1.0\n"
     ]
    }
   ],
   "source": [
    "import sys\n",
    "!{sys.executable} -m pip install faker"
   ]
  },
  {
   "cell_type": "code",
   "execution_count": 12,
   "id": "f6cfaa77-917a-45de-bd99-d38147209c99",
   "metadata": {},
   "outputs": [],
   "source": [
    "from faker import Faker\n",
    "import pandas as pd\n",
    "import random"
   ]
  },
  {
   "cell_type": "code",
   "execution_count": 13,
   "id": "70b50211-a0b8-42a3-b9ab-f7129734cbe3",
   "metadata": {},
   "outputs": [],
   "source": [
    "fake = Faker()"
   ]
  },
  {
   "cell_type": "code",
   "execution_count": 14,
   "id": "5be72eca-68fa-48fa-aa1a-ea276d4563eb",
   "metadata": {},
   "outputs": [],
   "source": [
    "provincias = [\"Loja\", \"Pichincha\", \"Guayas\", \"Azuay\", \"Manabí\"]"
   ]
  },
  {
   "cell_type": "code",
   "execution_count": 15,
   "id": "c2fedc36-703c-4699-b918-98f14d5f2ffe",
   "metadata": {},
   "outputs": [],
   "source": [
    "lista = []\n",
    "for x in range(10000):\n",
    "    lista.append({\n",
    "        \"nombre\": fake.first_name(),\n",
    "        \"apellido\": fake.last_name(),\n",
    "        \"email\": fake.email(),\n",
    "        \"direccion\": fake.address().replace(\"\\n\", \", \"),\n",
    "        \"edad\": random.randint(30, 40),\n",
    "        \"provincia\": random.choice(provincias)\n",
    "    })"
   ]
  },
  {
   "cell_type": "code",
   "execution_count": 16,
   "id": "906122ed-4354-49a9-8fba-4c4074273b19",
   "metadata": {},
   "outputs": [],
   "source": [
    "df = pd.DataFrame(datos)"
   ]
  },
  {
   "cell_type": "code",
   "execution_count": 17,
   "id": "a9a2a530-a0ff-4d36-b76f-c50c276c213d",
   "metadata": {},
   "outputs": [],
   "source": [
    "df.to_csv(\"personas_fake.csv\", index=False)"
   ]
  },
  {
   "cell_type": "code",
   "execution_count": 18,
   "id": "1fd54cb6-96cd-431c-ab39-6a03bff25401",
   "metadata": {},
   "outputs": [
    {
     "data": {
      "text/html": [
       "<div>\n",
       "<style scoped>\n",
       "    .dataframe tbody tr th:only-of-type {\n",
       "        vertical-align: middle;\n",
       "    }\n",
       "\n",
       "    .dataframe tbody tr th {\n",
       "        vertical-align: top;\n",
       "    }\n",
       "\n",
       "    .dataframe thead th {\n",
       "        text-align: right;\n",
       "    }\n",
       "</style>\n",
       "<table border=\"1\" class=\"dataframe\">\n",
       "  <thead>\n",
       "    <tr style=\"text-align: right;\">\n",
       "      <th></th>\n",
       "      <th>nombre</th>\n",
       "      <th>apellido</th>\n",
       "      <th>email</th>\n",
       "      <th>direccion</th>\n",
       "      <th>edad</th>\n",
       "      <th>provincia</th>\n",
       "    </tr>\n",
       "  </thead>\n",
       "  <tbody>\n",
       "    <tr>\n",
       "      <th>0</th>\n",
       "      <td>Rachel</td>\n",
       "      <td>Rodriguez</td>\n",
       "      <td>james89@example.org</td>\n",
       "      <td>261 Wood Motorway, East Jennifer, TN 84014</td>\n",
       "      <td>39</td>\n",
       "      <td>Pichincha</td>\n",
       "    </tr>\n",
       "    <tr>\n",
       "      <th>1</th>\n",
       "      <td>Laura</td>\n",
       "      <td>Garcia</td>\n",
       "      <td>antonio48@example.com</td>\n",
       "      <td>2994 Smith Ferry Suite 904, Thomasburgh, TN 38176</td>\n",
       "      <td>33</td>\n",
       "      <td>Pichincha</td>\n",
       "    </tr>\n",
       "    <tr>\n",
       "      <th>2</th>\n",
       "      <td>James</td>\n",
       "      <td>Kim</td>\n",
       "      <td>markyoung@example.org</td>\n",
       "      <td>USS Faulkner, FPO AP 90456</td>\n",
       "      <td>30</td>\n",
       "      <td>Pichincha</td>\n",
       "    </tr>\n",
       "    <tr>\n",
       "      <th>3</th>\n",
       "      <td>Richard</td>\n",
       "      <td>Joseph</td>\n",
       "      <td>sheilacolon@example.org</td>\n",
       "      <td>1259 Kevin Throughway, New Pamela, CO 01468</td>\n",
       "      <td>36</td>\n",
       "      <td>Guayas</td>\n",
       "    </tr>\n",
       "    <tr>\n",
       "      <th>4</th>\n",
       "      <td>Cindy</td>\n",
       "      <td>Munoz</td>\n",
       "      <td>tracy77@example.org</td>\n",
       "      <td>2960 Theodore Knoll Suite 069, Colemanburgh, M...</td>\n",
       "      <td>33</td>\n",
       "      <td>Pichincha</td>\n",
       "    </tr>\n",
       "  </tbody>\n",
       "</table>\n",
       "</div>"
      ],
      "text/plain": [
       "    nombre   apellido                    email  \\\n",
       "0   Rachel  Rodriguez      james89@example.org   \n",
       "1    Laura     Garcia    antonio48@example.com   \n",
       "2    James        Kim    markyoung@example.org   \n",
       "3  Richard     Joseph  sheilacolon@example.org   \n",
       "4    Cindy      Munoz      tracy77@example.org   \n",
       "\n",
       "                                           direccion  edad  provincia  \n",
       "0         261 Wood Motorway, East Jennifer, TN 84014    39  Pichincha  \n",
       "1  2994 Smith Ferry Suite 904, Thomasburgh, TN 38176    33  Pichincha  \n",
       "2                         USS Faulkner, FPO AP 90456    30  Pichincha  \n",
       "3        1259 Kevin Throughway, New Pamela, CO 01468    36     Guayas  \n",
       "4  2960 Theodore Knoll Suite 069, Colemanburgh, M...    33  Pichincha  "
      ]
     },
     "execution_count": 18,
     "metadata": {},
     "output_type": "execute_result"
    }
   ],
   "source": [
    "df.head()"
   ]
  },
  {
   "cell_type": "code",
   "execution_count": null,
   "id": "fe2f8654-97af-41f4-9215-b835ee5e139e",
   "metadata": {},
   "outputs": [],
   "source": []
  }
 ],
 "metadata": {
  "kernelspec": {
   "display_name": "Python 3 (ipykernel)",
   "language": "python",
   "name": "python3"
  },
  "language_info": {
   "codemirror_mode": {
    "name": "ipython",
    "version": 3
   },
   "file_extension": ".py",
   "mimetype": "text/x-python",
   "name": "python",
   "nbconvert_exporter": "python",
   "pygments_lexer": "ipython3",
   "version": "3.11.0"
  }
 },
 "nbformat": 4,
 "nbformat_minor": 5
}
